{
  "cells": [
    {
      "cell_type": "markdown",
      "metadata": {
        "id": "view-in-github",
        "colab_type": "text"
      },
      "source": [
        "<a href=\"https://colab.research.google.com/github/SAMRIDDHI-PAUL/Sentiment-Analysis-of-Covid-Vaccine/blob/main/covid%20Vaccine%20Sentiment%20Analysis.ipynb\" target=\"_parent\"><img src=\"https://colab.research.google.com/assets/colab-badge.svg\" alt=\"Open In Colab\"/></a>"
      ]
    },
    {
      "cell_type": "markdown",
      "metadata": {
        "id": "5PR8wHzGChRt"
      },
      "source": [
        "## IMPORTING MODULES \n"
      ]
    },
    {
      "cell_type": "code",
      "execution_count": null,
      "metadata": {
        "colab": {
          "background_save": true,
          "base_uri": "https://localhost:8080/"
        },
        "id": "_I5ot7_eQ4Hh",
        "outputId": "c78484e2-c399-4e6e-e50c-7b93c7de97ec"
      },
      "outputs": [
        {
          "name": "stdout",
          "output_type": "stream",
          "text": [
            "Looking in indexes: https://pypi.org/simple, https://us-python.pkg.dev/colab-wheels/public/simple/\n",
            "Requirement already satisfied: neattext in /usr/local/lib/python3.7/dist-packages (0.1.3)\n"
          ]
        }
      ],
      "source": [
        "import numpy as np \n",
        "import pandas as pd \n",
        "import matplotlib.pyplot as plt\n",
        "import seaborn as sns\n",
        "import plotly.express as px\n",
        "!pip install neattext\n",
        "import neattext as ntx  #text processing"
      ]
    },
    {
      "cell_type": "markdown",
      "metadata": {
        "id": "GUtUU2M-Ceh8"
      },
      "source": [
        "# *FETCHING DATASET*\n",
        "(dataset from kaggle) "
      ]
    },
    {
      "cell_type": "code",
      "execution_count": null,
      "metadata": {
        "colab": {
          "base_uri": "https://localhost:8080/"
        },
        "id": "tVeKlD4eRRuo",
        "outputId": "fc61e742-facc-4c61-908c-5291a145d26e"
      },
      "outputs": [
        {
          "name": "stdout",
          "output_type": "stream",
          "text": [
            "Mounted at /content/gdrive\n"
          ]
        }
      ],
      "source": [
        "from google.colab import drive\n",
        "drive.mount('/content/gdrive')"
      ]
    },
    {
      "cell_type": "code",
      "execution_count": null,
      "metadata": {
        "id": "shskUYHJUhWp"
      },
      "outputs": [],
      "source": [
        "!touch /content/gdrive/MyDrive/covidvaccine.zip"
      ]
    },
    {
      "cell_type": "code",
      "execution_count": null,
      "metadata": {
        "colab": {
          "base_uri": "https://localhost:8080/"
        },
        "id": "r6QEb8e8VXAl",
        "outputId": "48089b8c-f5cd-4183-abbb-0910fc9c981a"
      },
      "outputs": [
        {
          "name": "stdout",
          "output_type": "stream",
          "text": [
            "Archive:  /content/gdrive/MyDrive/covidvaccine.zip\n",
            "  inflating: covidvaccine.csv        \n"
          ]
        }
      ],
      "source": [
        "!unzip /content/gdrive/MyDrive/covidvaccine.zip"
      ]
    },
    {
      "cell_type": "code",
      "execution_count": null,
      "metadata": {
        "id": "FF9UiSZDVd1o"
      },
      "outputs": [],
      "source": [
        "path= '/content/covidvaccine.csv'"
      ]
    },
    {
      "cell_type": "markdown",
      "metadata": {
        "id": "-67aMaM7D95E"
      },
      "source": [
        "## LET'S ANALYSE THE DATA"
      ]
    },
    {
      "cell_type": "code",
      "execution_count": null,
      "metadata": {
        "colab": {
          "base_uri": "https://localhost:8080/"
        },
        "id": "AuuW1SvSV3T_",
        "outputId": "1849178f-9cd0-49cd-f52a-75f0c77ff006"
      },
      "outputs": [
        {
          "name": "stderr",
          "output_type": "stream",
          "text": [
            "/usr/local/lib/python3.7/dist-packages/IPython/core/interactiveshell.py:2882: DtypeWarning: Columns (5,6,7,12) have mixed types.Specify dtype option on import or set low_memory=False.\n",
            "  exec(code_obj, self.user_global_ns, self.user_ns)\n"
          ]
        }
      ],
      "source": [
        "df = pd.read_csv(path)"
      ]
    },
    {
      "cell_type": "code",
      "execution_count": null,
      "metadata": {
        "colab": {
          "base_uri": "https://localhost:8080/",
          "height": 530
        },
        "id": "DU0ywxyKV-YZ",
        "outputId": "a518d579-b771-459a-b9ea-fc3c19b316df"
      },
      "outputs": [
        {
          "data": {
            "text/html": [
              "\n",
              "  <div id=\"df-081f86f7-0af8-4058-8cac-11781049b73e\">\n",
              "    <div class=\"colab-df-container\">\n",
              "      <div>\n",
              "<style scoped>\n",
              "    .dataframe tbody tr th:only-of-type {\n",
              "        vertical-align: middle;\n",
              "    }\n",
              "\n",
              "    .dataframe tbody tr th {\n",
              "        vertical-align: top;\n",
              "    }\n",
              "\n",
              "    .dataframe thead th {\n",
              "        text-align: right;\n",
              "    }\n",
              "</style>\n",
              "<table border=\"1\" class=\"dataframe\">\n",
              "  <thead>\n",
              "    <tr style=\"text-align: right;\">\n",
              "      <th></th>\n",
              "      <th>user_name</th>\n",
              "      <th>user_location</th>\n",
              "      <th>user_description</th>\n",
              "      <th>user_created</th>\n",
              "      <th>user_followers</th>\n",
              "      <th>user_friends</th>\n",
              "      <th>user_favourites</th>\n",
              "      <th>user_verified</th>\n",
              "      <th>date</th>\n",
              "      <th>text</th>\n",
              "      <th>hashtags</th>\n",
              "      <th>source</th>\n",
              "      <th>is_retweet</th>\n",
              "    </tr>\n",
              "  </thead>\n",
              "  <tbody>\n",
              "    <tr>\n",
              "      <th>0</th>\n",
              "      <td>MyNewsNE</td>\n",
              "      <td>Assam</td>\n",
              "      <td>MyNewsNE a dedicated multi-lingual media house...</td>\n",
              "      <td>24-05-2020 10:18</td>\n",
              "      <td>64.0</td>\n",
              "      <td>11.0</td>\n",
              "      <td>110.0</td>\n",
              "      <td>False</td>\n",
              "      <td>18-08-2020 12:55</td>\n",
              "      <td>Australia to Manufacture Covid-19 Vaccine and ...</td>\n",
              "      <td>['CovidVaccine']</td>\n",
              "      <td>Twitter Web App</td>\n",
              "      <td>False</td>\n",
              "    </tr>\n",
              "    <tr>\n",
              "      <th>1</th>\n",
              "      <td>Shubham Gupta</td>\n",
              "      <td>NaN</td>\n",
              "      <td>I will tell about all experiences of my life f...</td>\n",
              "      <td>14-08-2020 16:42</td>\n",
              "      <td>1.0</td>\n",
              "      <td>17.0</td>\n",
              "      <td>0.0</td>\n",
              "      <td>False</td>\n",
              "      <td>18-08-2020 12:55</td>\n",
              "      <td>#CoronavirusVaccine #CoronaVaccine #CovidVacci...</td>\n",
              "      <td>['CoronavirusVaccine', 'CoronaVaccine', 'Covid...</td>\n",
              "      <td>Twitter for Android</td>\n",
              "      <td>False</td>\n",
              "    </tr>\n",
              "    <tr>\n",
              "      <th>2</th>\n",
              "      <td>Journal of Infectiology</td>\n",
              "      <td>NaN</td>\n",
              "      <td>Journal of Infectiology (ISSN 2689-9981) is ac...</td>\n",
              "      <td>14-12-2017 07:07</td>\n",
              "      <td>143.0</td>\n",
              "      <td>566.0</td>\n",
              "      <td>8.0</td>\n",
              "      <td>False</td>\n",
              "      <td>18-08-2020 12:46</td>\n",
              "      <td>Deaths due to COVID-19 in Affected Countries\\n...</td>\n",
              "      <td>NaN</td>\n",
              "      <td>Twitter Web App</td>\n",
              "      <td>False</td>\n",
              "    </tr>\n",
              "    <tr>\n",
              "      <th>3</th>\n",
              "      <td>Zane</td>\n",
              "      <td>NaN</td>\n",
              "      <td>Fresher than you.</td>\n",
              "      <td>18-09-2019 11:01</td>\n",
              "      <td>29.0</td>\n",
              "      <td>25.0</td>\n",
              "      <td>620.0</td>\n",
              "      <td>False</td>\n",
              "      <td>18-08-2020 12:45</td>\n",
              "      <td>@Team_Subhashree @subhashreesotwe @iamrajchoco...</td>\n",
              "      <td>NaN</td>\n",
              "      <td>Twitter for Android</td>\n",
              "      <td>False</td>\n",
              "    </tr>\n",
              "    <tr>\n",
              "      <th>4</th>\n",
              "      <td>Ann-Maree O’Connor</td>\n",
              "      <td>Adelaide, South Australia</td>\n",
              "      <td>Retired university administrator. Melburnian b...</td>\n",
              "      <td>24-01-2013 14:53</td>\n",
              "      <td>83.0</td>\n",
              "      <td>497.0</td>\n",
              "      <td>10737.0</td>\n",
              "      <td>False</td>\n",
              "      <td>18-08-2020 12:45</td>\n",
              "      <td>@michellegrattan @ConversationEDU This is what...</td>\n",
              "      <td>NaN</td>\n",
              "      <td>Twitter Web App</td>\n",
              "      <td>False</td>\n",
              "    </tr>\n",
              "  </tbody>\n",
              "</table>\n",
              "</div>\n",
              "      <button class=\"colab-df-convert\" onclick=\"convertToInteractive('df-081f86f7-0af8-4058-8cac-11781049b73e')\"\n",
              "              title=\"Convert this dataframe to an interactive table.\"\n",
              "              style=\"display:none;\">\n",
              "        \n",
              "  <svg xmlns=\"http://www.w3.org/2000/svg\" height=\"24px\"viewBox=\"0 0 24 24\"\n",
              "       width=\"24px\">\n",
              "    <path d=\"M0 0h24v24H0V0z\" fill=\"none\"/>\n",
              "    <path d=\"M18.56 5.44l.94 2.06.94-2.06 2.06-.94-2.06-.94-.94-2.06-.94 2.06-2.06.94zm-11 1L8.5 8.5l.94-2.06 2.06-.94-2.06-.94L8.5 2.5l-.94 2.06-2.06.94zm10 10l.94 2.06.94-2.06 2.06-.94-2.06-.94-.94-2.06-.94 2.06-2.06.94z\"/><path d=\"M17.41 7.96l-1.37-1.37c-.4-.4-.92-.59-1.43-.59-.52 0-1.04.2-1.43.59L10.3 9.45l-7.72 7.72c-.78.78-.78 2.05 0 2.83L4 21.41c.39.39.9.59 1.41.59.51 0 1.02-.2 1.41-.59l7.78-7.78 2.81-2.81c.8-.78.8-2.07 0-2.86zM5.41 20L4 18.59l7.72-7.72 1.47 1.35L5.41 20z\"/>\n",
              "  </svg>\n",
              "      </button>\n",
              "      \n",
              "  <style>\n",
              "    .colab-df-container {\n",
              "      display:flex;\n",
              "      flex-wrap:wrap;\n",
              "      gap: 12px;\n",
              "    }\n",
              "\n",
              "    .colab-df-convert {\n",
              "      background-color: #E8F0FE;\n",
              "      border: none;\n",
              "      border-radius: 50%;\n",
              "      cursor: pointer;\n",
              "      display: none;\n",
              "      fill: #1967D2;\n",
              "      height: 32px;\n",
              "      padding: 0 0 0 0;\n",
              "      width: 32px;\n",
              "    }\n",
              "\n",
              "    .colab-df-convert:hover {\n",
              "      background-color: #E2EBFA;\n",
              "      box-shadow: 0px 1px 2px rgba(60, 64, 67, 0.3), 0px 1px 3px 1px rgba(60, 64, 67, 0.15);\n",
              "      fill: #174EA6;\n",
              "    }\n",
              "\n",
              "    [theme=dark] .colab-df-convert {\n",
              "      background-color: #3B4455;\n",
              "      fill: #D2E3FC;\n",
              "    }\n",
              "\n",
              "    [theme=dark] .colab-df-convert:hover {\n",
              "      background-color: #434B5C;\n",
              "      box-shadow: 0px 1px 3px 1px rgba(0, 0, 0, 0.15);\n",
              "      filter: drop-shadow(0px 1px 2px rgba(0, 0, 0, 0.3));\n",
              "      fill: #FFFFFF;\n",
              "    }\n",
              "  </style>\n",
              "\n",
              "      <script>\n",
              "        const buttonEl =\n",
              "          document.querySelector('#df-081f86f7-0af8-4058-8cac-11781049b73e button.colab-df-convert');\n",
              "        buttonEl.style.display =\n",
              "          google.colab.kernel.accessAllowed ? 'block' : 'none';\n",
              "\n",
              "        async function convertToInteractive(key) {\n",
              "          const element = document.querySelector('#df-081f86f7-0af8-4058-8cac-11781049b73e');\n",
              "          const dataTable =\n",
              "            await google.colab.kernel.invokeFunction('convertToInteractive',\n",
              "                                                     [key], {});\n",
              "          if (!dataTable) return;\n",
              "\n",
              "          const docLinkHtml = 'Like what you see? Visit the ' +\n",
              "            '<a target=\"_blank\" href=https://colab.research.google.com/notebooks/data_table.ipynb>data table notebook</a>'\n",
              "            + ' to learn more about interactive tables.';\n",
              "          element.innerHTML = '';\n",
              "          dataTable['output_type'] = 'display_data';\n",
              "          await google.colab.output.renderOutput(dataTable, element);\n",
              "          const docLink = document.createElement('div');\n",
              "          docLink.innerHTML = docLinkHtml;\n",
              "          element.appendChild(docLink);\n",
              "        }\n",
              "      </script>\n",
              "    </div>\n",
              "  </div>\n",
              "  "
            ],
            "text/plain": [
              "                 user_name              user_location  \\\n",
              "0                 MyNewsNE                      Assam   \n",
              "1            Shubham Gupta                        NaN   \n",
              "2  Journal of Infectiology                        NaN   \n",
              "3                     Zane                        NaN   \n",
              "4       Ann-Maree O’Connor  Adelaide, South Australia   \n",
              "\n",
              "                                    user_description      user_created  \\\n",
              "0  MyNewsNE a dedicated multi-lingual media house...  24-05-2020 10:18   \n",
              "1  I will tell about all experiences of my life f...  14-08-2020 16:42   \n",
              "2  Journal of Infectiology (ISSN 2689-9981) is ac...  14-12-2017 07:07   \n",
              "3                                  Fresher than you.  18-09-2019 11:01   \n",
              "4  Retired university administrator. Melburnian b...  24-01-2013 14:53   \n",
              "\n",
              "   user_followers user_friends user_favourites user_verified  \\\n",
              "0            64.0         11.0           110.0         False   \n",
              "1             1.0         17.0             0.0         False   \n",
              "2           143.0        566.0             8.0         False   \n",
              "3            29.0         25.0           620.0         False   \n",
              "4            83.0        497.0         10737.0         False   \n",
              "\n",
              "               date                                               text  \\\n",
              "0  18-08-2020 12:55  Australia to Manufacture Covid-19 Vaccine and ...   \n",
              "1  18-08-2020 12:55  #CoronavirusVaccine #CoronaVaccine #CovidVacci...   \n",
              "2  18-08-2020 12:46  Deaths due to COVID-19 in Affected Countries\\n...   \n",
              "3  18-08-2020 12:45  @Team_Subhashree @subhashreesotwe @iamrajchoco...   \n",
              "4  18-08-2020 12:45  @michellegrattan @ConversationEDU This is what...   \n",
              "\n",
              "                                            hashtags               source  \\\n",
              "0                                   ['CovidVaccine']      Twitter Web App   \n",
              "1  ['CoronavirusVaccine', 'CoronaVaccine', 'Covid...  Twitter for Android   \n",
              "2                                                NaN      Twitter Web App   \n",
              "3                                                NaN  Twitter for Android   \n",
              "4                                                NaN      Twitter Web App   \n",
              "\n",
              "  is_retweet  \n",
              "0      False  \n",
              "1      False  \n",
              "2      False  \n",
              "3      False  \n",
              "4      False  "
            ]
          },
          "execution_count": 7,
          "metadata": {},
          "output_type": "execute_result"
        }
      ],
      "source": [
        "df.head()"
      ]
    },
    {
      "cell_type": "code",
      "execution_count": null,
      "metadata": {
        "colab": {
          "base_uri": "https://localhost:8080/"
        },
        "id": "zNmaADboWClc",
        "outputId": "bf36830e-b398-48d7-9d46-78bf5c08ddff"
      },
      "outputs": [
        {
          "data": {
            "text/plain": [
              "(394391, 13)"
            ]
          },
          "execution_count": 8,
          "metadata": {},
          "output_type": "execute_result"
        }
      ],
      "source": [
        "df.shape"
      ]
    },
    {
      "cell_type": "code",
      "execution_count": null,
      "metadata": {
        "colab": {
          "base_uri": "https://localhost:8080/"
        },
        "id": "fqs8IDTaWKhN",
        "outputId": "4c39a94e-6247-4090-b875-8be0220871e9"
      },
      "outputs": [
        {
          "data": {
            "text/plain": [
              "user_name              19\n",
              "user_location       83415\n",
              "user_description    21613\n",
              "user_created           26\n",
              "user_followers         48\n",
              "user_friends           48\n",
              "user_favourites        48\n",
              "user_verified          48\n",
              "date                   50\n",
              "text                   48\n",
              "hashtags            61683\n",
              "source               2460\n",
              "is_retweet             69\n",
              "dtype: int64"
            ]
          },
          "execution_count": 9,
          "metadata": {},
          "output_type": "execute_result"
        }
      ],
      "source": [
        "df.isna().sum()    #checking number of null values"
      ]
    },
    {
      "cell_type": "code",
      "execution_count": null,
      "metadata": {
        "id": "Nok2VtW1WQqM"
      },
      "outputs": [],
      "source": [
        "from datetime import datetime,date"
      ]
    },
    {
      "cell_type": "code",
      "execution_count": null,
      "metadata": {
        "colab": {
          "base_uri": "https://localhost:8080/",
          "height": 446
        },
        "id": "k7F4gTaAWT_b",
        "outputId": "dcc08467-5f4e-4134-b42a-9a944a946fd5"
      },
      "outputs": [
        {
          "data": {
            "text/plain": [
              "<matplotlib.axes._subplots.AxesSubplot at 0x7f32e5076110>"
            ]
          },
          "execution_count": 11,
          "metadata": {},
          "output_type": "execute_result"
        },
        {
          "data": {
            "image/png": "[encoded data removed]",
            "text/plain": [
              "<Figure size 720x504 with 1 Axes>"
            ]
          },
          "metadata": {},
          "output_type": "display_data"
        }
      ],
      "source": [
        "plt.figure(figsize=(10,7))\n",
        "df['user_location'].value_counts().nlargest(10).plot(kind='line')"
      ]
    },
    {
      "cell_type": "code",
      "execution_count": null,
      "metadata": {
        "colab": {
          "base_uri": "https://localhost:8080/"
        },
        "id": "DtBbrmlzXWgR",
        "outputId": "c1de77b6-7d0d-4f97-b757-b0f6c3d32e91"
      },
      "outputs": [
        {
          "data": {
            "text/plain": [
              "(393998, 13)"
            ]
          },
          "execution_count": 12,
          "metadata": {},
          "output_type": "execute_result"
        }
      ],
      "source": [
        "df=df.drop_duplicates('text')\n",
        "df.shape"
      ]
    },
    {
      "cell_type": "code",
      "execution_count": null,
      "metadata": {
        "colab": {
          "base_uri": "https://localhost:8080/"
        },
        "id": "BPWx22PAX6xY",
        "outputId": "67d4caec-4ceb-4cc3-e634-0a638192cc64"
      },
      "outputs": [
        {
          "name": "stdout",
          "output_type": "stream",
          "text": [
            "<class 'pandas.core.frame.DataFrame'>\n",
            "Int64Index: 393998 entries, 0 to 394390\n",
            "Data columns (total 13 columns):\n",
            " #   Column            Non-Null Count   Dtype  \n",
            "---  ------            --------------   -----  \n",
            " 0   user_name         393979 non-null  object \n",
            " 1   user_location     310674 non-null  object \n",
            " 2   user_description  372434 non-null  object \n",
            " 3   user_created      393998 non-null  object \n",
            " 4   user_followers    393997 non-null  float64\n",
            " 5   user_friends      393997 non-null  object \n",
            " 6   user_favourites   393997 non-null  object \n",
            " 7   user_verified     393997 non-null  object \n",
            " 8   date              393996 non-null  object \n",
            " 9   text              393997 non-null  object \n",
            " 10  hashtags          332369 non-null  object \n",
            " 11  source            391591 non-null  object \n",
            " 12  is_retweet        393982 non-null  object \n",
            "dtypes: float64(1), object(12)\n",
            "memory usage: 42.1+ MB\n"
          ]
        }
      ],
      "source": [
        "df.info()"
      ]
    },
    {
      "cell_type": "code",
      "execution_count": null,
      "metadata": {
        "colab": {
          "base_uri": "https://localhost:8080/"
        },
        "id": "0qeIm93IYRS9",
        "outputId": "b8a33b6e-714f-41c0-d1a7-8634cb75aa5a"
      },
      "outputs": [
        {
          "data": {
            "text/plain": [
              "Twitter Web App         117580\n",
              "Twitter for iPhone      109302\n",
              "Twitter for Android      83604\n",
              "VaxBlr                   15845\n",
              "Hootsuite Inc.           13313\n",
              "                         ...  \n",
              "OnlineMovieRatingApp         1\n",
              "web-mining-test              1\n",
              "fiddyshadesbot               1\n",
              "sentiment_fun'''             1\n",
              "BublishMe                    1\n",
              "Name: source, Length: 952, dtype: int64"
            ]
          },
          "execution_count": 14,
          "metadata": {},
          "output_type": "execute_result"
        }
      ],
      "source": [
        "df.source.value_counts()"
      ]
    },
    {
      "cell_type": "code",
      "execution_count": null,
      "metadata": {
        "colab": {
          "base_uri": "https://localhost:8080/",
          "height": 701
        },
        "id": "6YbMgKtVYUWc",
        "outputId": "a7f80978-030b-4be3-bbb0-3d2412a25cf0"
      },
      "outputs": [
        {
          "data": {
            "text/plain": [
              "<matplotlib.axes._subplots.AxesSubplot at 0x7f32e4b22c10>"
            ]
          },
          "execution_count": 15,
          "metadata": {},
          "output_type": "execute_result"
        },
        {
          "data": {
            "image/png": "[encoded data removed]",
            "text/plain": [
              "<Figure size 1080x720 with 1 Axes>"
            ]
          },
          "metadata": {},
          "output_type": "display_data"
        }
      ],
      "source": [
        "plt.figure(figsize=(15,10))\n",
        "df['source'].value_counts().nlargest(15).plot(kind='bar')\n"
      ]
    },
    {
      "cell_type": "code",
      "execution_count": null,
      "metadata": {
        "colab": {
          "base_uri": "https://localhost:8080/"
        },
        "id": "VgvL0Gs7YXWZ",
        "outputId": "34f198d6-6ce9-4c3b-c70c-4871d6d9baab"
      },
      "outputs": [
        {
          "data": {
            "text/plain": [
              "Bengaluru, India               16393\n",
              "India                           7674\n",
              "United States                   5522\n",
              "London, England                 4261\n",
              "USA                             4005\n",
              "                               ...  \n",
              "Tigard, OR                         1\n",
              "Jerusalemite ירושלמי مقدسي‎        1\n",
              "Ma.                                1\n",
              "Eagle Beach, Aruba                 1\n",
              "Far reaches of my mind             1\n",
              "Name: user_location, Length: 40907, dtype: int64"
            ]
          },
          "execution_count": 16,
          "metadata": {},
          "output_type": "execute_result"
        }
      ],
      "source": [
        "\n",
        "df.user_location.value_counts()"
      ]
    },
    {
      "cell_type": "code",
      "execution_count": null,
      "metadata": {
        "colab": {
          "base_uri": "https://localhost:8080/",
          "height": 278
        },
        "id": "S8pTfM9KYgOe",
        "outputId": "89a08841-d735-4703-8e59-daa3ae443e42"
      },
      "outputs": [
        {
          "data": {
            "text/html": [
              "\n",
              "  <div id=\"df-189106f5-030d-473a-8875-372b240e418b\">\n",
              "    <div class=\"colab-df-container\">\n",
              "      <div>\n",
              "<style scoped>\n",
              "    .dataframe tbody tr th:only-of-type {\n",
              "        vertical-align: middle;\n",
              "    }\n",
              "\n",
              "    .dataframe tbody tr th {\n",
              "        vertical-align: top;\n",
              "    }\n",
              "\n",
              "    .dataframe thead th {\n",
              "        text-align: right;\n",
              "    }\n",
              "</style>\n",
              "<table border=\"1\" class=\"dataframe\">\n",
              "  <thead>\n",
              "    <tr style=\"text-align: right;\">\n",
              "      <th></th>\n",
              "      <th>user_name</th>\n",
              "      <th>user_location</th>\n",
              "      <th>user_description</th>\n",
              "      <th>user_created</th>\n",
              "      <th>user_followers</th>\n",
              "      <th>user_friends</th>\n",
              "      <th>user_favourites</th>\n",
              "      <th>user_verified</th>\n",
              "      <th>date</th>\n",
              "      <th>text</th>\n",
              "      <th>hashtags</th>\n",
              "      <th>source</th>\n",
              "      <th>is_retweet</th>\n",
              "    </tr>\n",
              "  </thead>\n",
              "  <tbody>\n",
              "    <tr>\n",
              "      <th>4126</th>\n",
              "      <td>SouthSide</td>\n",
              "      <td>NaN</td>\n",
              "      <td>‘ologist, Feminist, mother and grandmother. St...</td>\n",
              "      <td>15-10-2013 18:42</td>\n",
              "      <td>40.0</td>\n",
              "      <td>33.0</td>\n",
              "      <td>29884.0</td>\n",
              "      <td>False</td>\n",
              "      <td>01-09-2020 00:04</td>\n",
              "      <td>Don’t politicize the #CDC and the #FDA.  I’m p...</td>\n",
              "      <td>['CDC', 'FDA']</td>\n",
              "      <td>Twitter for iPhone</td>\n",
              "      <td>False</td>\n",
              "    </tr>\n",
              "    <tr>\n",
              "      <th>4125</th>\n",
              "      <td>Candidate PAJ</td>\n",
              "      <td>NaN</td>\n",
              "      <td>Assuming Twitter exists in the future, let thi...</td>\n",
              "      <td>18-01-2019 02:06</td>\n",
              "      <td>2.0</td>\n",
              "      <td>166.0</td>\n",
              "      <td>41.0</td>\n",
              "      <td>False</td>\n",
              "      <td>01-09-2020 00:05</td>\n",
              "      <td>Whomever the President is needs to get the #co...</td>\n",
              "      <td>['covidvaccine']</td>\n",
              "      <td>Twitter for iPhone</td>\n",
              "      <td>False</td>\n",
              "    </tr>\n",
              "  </tbody>\n",
              "</table>\n",
              "</div>\n",
              "      <button class=\"colab-df-convert\" onclick=\"convertToInteractive('df-189106f5-030d-473a-8875-372b240e418b')\"\n",
              "              title=\"Convert this dataframe to an interactive table.\"\n",
              "              style=\"display:none;\">\n",
              "        \n",
              "  <svg xmlns=\"http://www.w3.org/2000/svg\" height=\"24px\"viewBox=\"0 0 24 24\"\n",
              "       width=\"24px\">\n",
              "    <path d=\"M0 0h24v24H0V0z\" fill=\"none\"/>\n",
              "    <path d=\"M18.56 5.44l.94 2.06.94-2.06 2.06-.94-2.06-.94-.94-2.06-.94 2.06-2.06.94zm-11 1L8.5 8.5l.94-2.06 2.06-.94-2.06-.94L8.5 2.5l-.94 2.06-2.06.94zm10 10l.94 2.06.94-2.06 2.06-.94-2.06-.94-.94-2.06-.94 2.06-2.06.94z\"/><path d=\"M17.41 7.96l-1.37-1.37c-.4-.4-.92-.59-1.43-.59-.52 0-1.04.2-1.43.59L10.3 9.45l-7.72 7.72c-.78.78-.78 2.05 0 2.83L4 21.41c.39.39.9.59 1.41.59.51 0 1.02-.2 1.41-.59l7.78-7.78 2.81-2.81c.8-.78.8-2.07 0-2.86zM5.41 20L4 18.59l7.72-7.72 1.47 1.35L5.41 20z\"/>\n",
              "  </svg>\n",
              "      </button>\n",
              "      \n",
              "  <style>\n",
              "    .colab-df-container {\n",
              "      display:flex;\n",
              "      flex-wrap:wrap;\n",
              "      gap: 12px;\n",
              "    }\n",
              "\n",
              "    .colab-df-convert {\n",
              "      background-color: #E8F0FE;\n",
              "      border: none;\n",
              "      border-radius: 50%;\n",
              "      cursor: pointer;\n",
              "      display: none;\n",
              "      fill: #1967D2;\n",
              "      height: 32px;\n",
              "      padding: 0 0 0 0;\n",
              "      width: 32px;\n",
              "    }\n",
              "\n",
              "    .colab-df-convert:hover {\n",
              "      background-color: #E2EBFA;\n",
              "      box-shadow: 0px 1px 2px rgba(60, 64, 67, 0.3), 0px 1px 3px 1px rgba(60, 64, 67, 0.15);\n",
              "      fill: #174EA6;\n",
              "    }\n",
              "\n",
              "    [theme=dark] .colab-df-convert {\n",
              "      background-color: #3B4455;\n",
              "      fill: #D2E3FC;\n",
              "    }\n",
              "\n",
              "    [theme=dark] .colab-df-convert:hover {\n",
              "      background-color: #434B5C;\n",
              "      box-shadow: 0px 1px 3px 1px rgba(0, 0, 0, 0.15);\n",
              "      filter: drop-shadow(0px 1px 2px rgba(0, 0, 0, 0.3));\n",
              "      fill: #FFFFFF;\n",
              "    }\n",
              "  </style>\n",
              "\n",
              "      <script>\n",
              "        const buttonEl =\n",
              "          document.querySelector('#df-189106f5-030d-473a-8875-372b240e418b button.colab-df-convert');\n",
              "        buttonEl.style.display =\n",
              "          google.colab.kernel.accessAllowed ? 'block' : 'none';\n",
              "\n",
              "        async function convertToInteractive(key) {\n",
              "          const element = document.querySelector('#df-189106f5-030d-473a-8875-372b240e418b');\n",
              "          const dataTable =\n",
              "            await google.colab.kernel.invokeFunction('convertToInteractive',\n",
              "                                                     [key], {});\n",
              "          if (!dataTable) return;\n",
              "\n",
              "          const docLinkHtml = 'Like what you see? Visit the ' +\n",
              "            '<a target=\"_blank\" href=https://colab.research.google.com/notebooks/data_table.ipynb>data table notebook</a>'\n",
              "            + ' to learn more about interactive tables.';\n",
              "          element.innerHTML = '';\n",
              "          dataTable['output_type'] = 'display_data';\n",
              "          await google.colab.output.renderOutput(dataTable, element);\n",
              "          const docLink = document.createElement('div');\n",
              "          docLink.innerHTML = docLinkHtml;\n",
              "          element.appendChild(docLink);\n",
              "        }\n",
              "      </script>\n",
              "    </div>\n",
              "  </div>\n",
              "  "
            ],
            "text/plain": [
              "          user_name user_location  \\\n",
              "4126      SouthSide           NaN   \n",
              "4125  Candidate PAJ           NaN   \n",
              "\n",
              "                                       user_description      user_created  \\\n",
              "4126  ‘ologist, Feminist, mother and grandmother. St...  15-10-2013 18:42   \n",
              "4125  Assuming Twitter exists in the future, let thi...  18-01-2019 02:06   \n",
              "\n",
              "      user_followers user_friends user_favourites user_verified  \\\n",
              "4126            40.0         33.0         29884.0         False   \n",
              "4125             2.0        166.0            41.0         False   \n",
              "\n",
              "                  date                                               text  \\\n",
              "4126  01-09-2020 00:04  Don’t politicize the #CDC and the #FDA.  I’m p...   \n",
              "4125  01-09-2020 00:05  Whomever the President is needs to get the #co...   \n",
              "\n",
              "              hashtags              source is_retweet  \n",
              "4126    ['CDC', 'FDA']  Twitter for iPhone      False  \n",
              "4125  ['covidvaccine']  Twitter for iPhone      False  "
            ]
          },
          "execution_count": 17,
          "metadata": {},
          "output_type": "execute_result"
        }
      ],
      "source": [
        "df.sort_values(by=['date']).head(2)"
      ]
    },
    {
      "cell_type": "markdown",
      "metadata": {
        "id": "TRUstNv6H4N8"
      },
      "source": [
        "# PRE PROCESSING OF DATA"
      ]
    },
    {
      "cell_type": "code",
      "execution_count": null,
      "metadata": {
        "id": "eh_TWA1TYjVI"
      },
      "outputs": [],
      "source": [
        "df.drop(columns={\"user_name\",\"user_description\",\"user_created\",\"user_followers\",\\\n",
        "                   \"user_friends\",\"user_favourites\",\"user_verified\",\"hashtags\",\"source\",\"is_retweet\"},inplace=True)"
      ]
    },
    {
      "cell_type": "code",
      "execution_count": null,
      "metadata": {
        "colab": {
          "base_uri": "https://localhost:8080/",
          "height": 206
        },
        "id": "h6M0fAGFYnFG",
        "outputId": "37068eea-b8c8-4dd1-85fb-2c82d1446670"
      },
      "outputs": [
        {
          "data": {
            "text/html": [
              "\n",
              "  <div id=\"df-6acefac9-8c28-46fd-9519-871bbe3e8efe\">\n",
              "    <div class=\"colab-df-container\">\n",
              "      <div>\n",
              "<style scoped>\n",
              "    .dataframe tbody tr th:only-of-type {\n",
              "        vertical-align: middle;\n",
              "    }\n",
              "\n",
              "    .dataframe tbody tr th {\n",
              "        vertical-align: top;\n",
              "    }\n",
              "\n",
              "    .dataframe thead th {\n",
              "        text-align: right;\n",
              "    }\n",
              "</style>\n",
              "<table border=\"1\" class=\"dataframe\">\n",
              "  <thead>\n",
              "    <tr style=\"text-align: right;\">\n",
              "      <th></th>\n",
              "      <th>user_location</th>\n",
              "      <th>date</th>\n",
              "      <th>text</th>\n",
              "    </tr>\n",
              "  </thead>\n",
              "  <tbody>\n",
              "    <tr>\n",
              "      <th>0</th>\n",
              "      <td>Assam</td>\n",
              "      <td>18-08-2020 12:55</td>\n",
              "      <td>Australia to Manufacture Covid-19 Vaccine and give it to the Citizens for free of cost: AFP quotes Prime Minister\\n#CovidVaccine</td>\n",
              "    </tr>\n",
              "    <tr>\n",
              "      <th>1</th>\n",
              "      <td>NaN</td>\n",
              "      <td>18-08-2020 12:55</td>\n",
              "      <td>#CoronavirusVaccine #CoronaVaccine #CovidVaccine Australia is doing very good https://t.co/kBT7l6pArY</td>\n",
              "    </tr>\n",
              "    <tr>\n",
              "      <th>2</th>\n",
              "      <td>NaN</td>\n",
              "      <td>18-08-2020 12:46</td>\n",
              "      <td>Deaths due to COVID-19 in Affected Countries\\nRead More: https://t.co/V8Y3Stu0UW\\n@r_piryani @shitalbhandary… https://t.co/6jpMxX2KtI</td>\n",
              "    </tr>\n",
              "    <tr>\n",
              "      <th>3</th>\n",
              "      <td>NaN</td>\n",
              "      <td>18-08-2020 12:45</td>\n",
              "      <td>@Team_Subhashree @subhashreesotwe @iamrajchoco Stay safe @subhashreesotwe di &amp;amp; @iamrajchoco da ❤️❤️… https://t.co/ayhoaQm0Ls</td>\n",
              "    </tr>\n",
              "    <tr>\n",
              "      <th>4</th>\n",
              "      <td>Adelaide, South Australia</td>\n",
              "      <td>18-08-2020 12:45</td>\n",
              "      <td>@michellegrattan @ConversationEDU This is what passes for leadership in our country: a voucher for something that w… https://t.co/OUUb1PeYIj</td>\n",
              "    </tr>\n",
              "  </tbody>\n",
              "</table>\n",
              "</div>\n",
              "      <button class=\"colab-df-convert\" onclick=\"convertToInteractive('df-6acefac9-8c28-46fd-9519-871bbe3e8efe')\"\n",
              "              title=\"Convert this dataframe to an interactive table.\"\n",
              "              style=\"display:none;\">\n",
              "        \n",
              "  <svg xmlns=\"http://www.w3.org/2000/svg\" height=\"24px\"viewBox=\"0 0 24 24\"\n",
              "       width=\"24px\">\n",
              "    <path d=\"M0 0h24v24H0V0z\" fill=\"none\"/>\n",
              "    <path d=\"M18.56 5.44l.94 2.06.94-2.06 2.06-.94-2.06-.94-.94-2.06-.94 2.06-2.06.94zm-11 1L8.5 8.5l.94-2.06 2.06-.94-2.06-.94L8.5 2.5l-.94 2.06-2.06.94zm10 10l.94 2.06.94-2.06 2.06-.94-2.06-.94-.94-2.06-.94 2.06-2.06.94z\"/><path d=\"M17.41 7.96l-1.37-1.37c-.4-.4-.92-.59-1.43-.59-.52 0-1.04.2-1.43.59L10.3 9.45l-7.72 7.72c-.78.78-.78 2.05 0 2.83L4 21.41c.39.39.9.59 1.41.59.51 0 1.02-.2 1.41-.59l7.78-7.78 2.81-2.81c.8-.78.8-2.07 0-2.86zM5.41 20L4 18.59l7.72-7.72 1.47 1.35L5.41 20z\"/>\n",
              "  </svg>\n",
              "      </button>\n",
              "      \n",
              "  <style>\n",
              "    .colab-df-container {\n",
              "      display:flex;\n",
              "      flex-wrap:wrap;\n",
              "      gap: 12px;\n",
              "    }\n",
              "\n",
              "    .colab-df-convert {\n",
              "      background-color: #E8F0FE;\n",
              "      border: none;\n",
              "      border-radius: 50%;\n",
              "      cursor: pointer;\n",
              "      display: none;\n",
              "      fill: #1967D2;\n",
              "      height: 32px;\n",
              "      padding: 0 0 0 0;\n",
              "      width: 32px;\n",
              "    }\n",
              "\n",
              "    .colab-df-convert:hover {\n",
              "      background-color: #E2EBFA;\n",
              "      box-shadow: 0px 1px 2px rgba(60, 64, 67, 0.3), 0px 1px 3px 1px rgba(60, 64, 67, 0.15);\n",
              "      fill: #174EA6;\n",
              "    }\n",
              "\n",
              "    [theme=dark] .colab-df-convert {\n",
              "      background-color: #3B4455;\n",
              "      fill: #D2E3FC;\n",
              "    }\n",
              "\n",
              "    [theme=dark] .colab-df-convert:hover {\n",
              "      background-color: #434B5C;\n",
              "      box-shadow: 0px 1px 3px 1px rgba(0, 0, 0, 0.15);\n",
              "      filter: drop-shadow(0px 1px 2px rgba(0, 0, 0, 0.3));\n",
              "      fill: #FFFFFF;\n",
              "    }\n",
              "  </style>\n",
              "\n",
              "      <script>\n",
              "        const buttonEl =\n",
              "          document.querySelector('#df-6acefac9-8c28-46fd-9519-871bbe3e8efe button.colab-df-convert');\n",
              "        buttonEl.style.display =\n",
              "          google.colab.kernel.accessAllowed ? 'block' : 'none';\n",
              "\n",
              "        async function convertToInteractive(key) {\n",
              "          const element = document.querySelector('#df-6acefac9-8c28-46fd-9519-871bbe3e8efe');\n",
              "          const dataTable =\n",
              "            await google.colab.kernel.invokeFunction('convertToInteractive',\n",
              "                                                     [key], {});\n",
              "          if (!dataTable) return;\n",
              "\n",
              "          const docLinkHtml = 'Like what you see? Visit the ' +\n",
              "            '<a target=\"_blank\" href=https://colab.research.google.com/notebooks/data_table.ipynb>data table notebook</a>'\n",
              "            + ' to learn more about interactive tables.';\n",
              "          element.innerHTML = '';\n",
              "          dataTable['output_type'] = 'display_data';\n",
              "          await google.colab.output.renderOutput(dataTable, element);\n",
              "          const docLink = document.createElement('div');\n",
              "          docLink.innerHTML = docLinkHtml;\n",
              "          element.appendChild(docLink);\n",
              "        }\n",
              "      </script>\n",
              "    </div>\n",
              "  </div>\n",
              "  "
            ],
            "text/plain": [
              "               user_location              date  \\\n",
              "0                      Assam  18-08-2020 12:55   \n",
              "1                        NaN  18-08-2020 12:55   \n",
              "2                        NaN  18-08-2020 12:46   \n",
              "3                        NaN  18-08-2020 12:45   \n",
              "4  Adelaide, South Australia  18-08-2020 12:45   \n",
              "\n",
              "                                                                                                                                           text  \n",
              "0              Australia to Manufacture Covid-19 Vaccine and give it to the Citizens for free of cost: AFP quotes Prime Minister\\n#CovidVaccine  \n",
              "1                                         #CoronavirusVaccine #CoronaVaccine #CovidVaccine Australia is doing very good https://t.co/kBT7l6pArY  \n",
              "2         Deaths due to COVID-19 in Affected Countries\\nRead More: https://t.co/V8Y3Stu0UW\\n@r_piryani @shitalbhandary… https://t.co/6jpMxX2KtI  \n",
              "3              @Team_Subhashree @subhashreesotwe @iamrajchoco Stay safe @subhashreesotwe di &amp; @iamrajchoco da ❤️❤️… https://t.co/ayhoaQm0Ls  \n",
              "4  @michellegrattan @ConversationEDU This is what passes for leadership in our country: a voucher for something that w… https://t.co/OUUb1PeYIj  "
            ]
          },
          "execution_count": 19,
          "metadata": {},
          "output_type": "execute_result"
        }
      ],
      "source": [
        "pd.set_option('display.max_colwidth', 700)\n",
        "df.head()"
      ]
    },
    {
      "cell_type": "code",
      "execution_count": null,
      "metadata": {
        "colab": {
          "base_uri": "https://localhost:8080/"
        },
        "id": "KSZRUaKVY4TQ",
        "outputId": "e6d5f137-560e-43ab-d90c-f5a28f0bde22"
      },
      "outputs": [
        {
          "name": "stdout",
          "output_type": "stream",
          "text": [
            "<class 'pandas.core.frame.DataFrame'>\n",
            "Int64Index: 393998 entries, 0 to 394390\n",
            "Data columns (total 3 columns):\n",
            " #   Column         Non-Null Count   Dtype \n",
            "---  ------         --------------   ----- \n",
            " 0   user_location  310674 non-null  object\n",
            " 1   date           393996 non-null  object\n",
            " 2   text           393997 non-null  object\n",
            "dtypes: object(3)\n",
            "memory usage: 12.0+ MB\n"
          ]
        }
      ],
      "source": [
        "df.info()"
      ]
    },
    {
      "cell_type": "code",
      "execution_count": null,
      "metadata": {
        "id": "zCb9x3raY_px"
      },
      "outputs": [],
      "source": [
        "df['text']=str(df['text'])"
      ]
    },
    {
      "cell_type": "code",
      "execution_count": null,
      "metadata": {
        "id": "2QisudpJaAkX"
      },
      "outputs": [],
      "source": [
        "df['clean_data']=df['text'].apply(ntx.remove_hashtags)\n"
      ]
    },
    {
      "cell_type": "code",
      "execution_count": null,
      "metadata": {
        "id": "TQRp-lydaFKR"
      },
      "outputs": [],
      "source": [
        "df['clean_data']=df['clean_data'].apply(ntx.remove_urls)\n"
      ]
    },
    {
      "cell_type": "code",
      "execution_count": null,
      "metadata": {
        "id": "qEtMzCI0IKO5"
      },
      "outputs": [],
      "source": [
        "df['clean_data']=df['clean_data'].apply(ntx.remove_userhandles)"
      ]
    },
    {
      "cell_type": "code",
      "execution_count": null,
      "metadata": {
        "id": "2EjLDDWvIK9v"
      },
      "outputs": [],
      "source": [
        "df['clean_data']=df['clean_data'].apply(ntx.remove_multiple_spaces)"
      ]
    },
    {
      "cell_type": "code",
      "execution_count": null,
      "metadata": {
        "id": "7ym5EEnhbnla"
      },
      "outputs": [],
      "source": [
        "df['clean_data']=df['clean_data'].apply(ntx.remove_special_characters)"
      ]
    },
    {
      "cell_type": "code",
      "execution_count": null,
      "metadata": {
        "colab": {
          "base_uri": "https://localhost:8080/",
          "height": 295
        },
        "id": "A4QG2hC7cfOy",
        "outputId": "112670f2-6b0e-4f4e-efce-0191dc77d918"
      },
      "outputs": [
        {
          "data": {
            "text/html": [
              "\n",
              "  <div id=\"df-ba75cff9-aa0b-4071-b01b-b128de1dc9c0\">\n",
              "    <div class=\"colab-df-container\">\n",
              "      <div>\n",
              "<style scoped>\n",
              "    .dataframe tbody tr th:only-of-type {\n",
              "        vertical-align: middle;\n",
              "    }\n",
              "\n",
              "    .dataframe tbody tr th {\n",
              "        vertical-align: top;\n",
              "    }\n",
              "\n",
              "    .dataframe thead th {\n",
              "        text-align: right;\n",
              "    }\n",
              "</style>\n",
              "<table border=\"1\" class=\"dataframe\">\n",
              "  <thead>\n",
              "    <tr style=\"text-align: right;\">\n",
              "      <th></th>\n",
              "      <th>clean_data</th>\n",
              "      <th>text</th>\n",
              "    </tr>\n",
              "  </thead>\n",
              "  <tbody>\n",
              "    <tr>\n",
              "      <th>0</th>\n",
              "      <td>0 0 Australia to Manufacture Covid19 Vaccine and give it to the Citizens for free of cost AFP quotes Prime Ministern Australia is doing very good 1 0 Australia to Manufacture Covid19 Vaccine and give it to the Citizens for free of cost AFP quotes Prime Ministern Australia is doing very good 2 0 Australia to Manufacture Covid19 Vaccine and give it to the Citizens for free of cost AFP quotes Prime Ministern Australia is doing very good 3 0 Australia to Manufacture Covid19 Vaccine and give it to the Citizens for free of cost AFP quotes Prime Ministern Australia is doing very good 4 0 Australia to Manufacture Covid19 Vaccine and give it to the Citizens for free of cost AFP quotes Prime Minis...</td>\n",
              "      <td>0         0                                                                                                                                                                        Australia to Manufacture Covid-19 Vaccine and give it to the Citizens for free of cost: AFP quotes Prime Minister\\n#CovidVaccine\\n1                                                                                                                                                                                                   #CoronavirusVaccine #CoronaVaccine #CovidVaccine Australia is doing very good https://t.co/kBT7l6pArY\\n2                                                                                       ...</td>\n",
              "    </tr>\n",
              "    <tr>\n",
              "      <th>1</th>\n",
              "      <td>0 0 Australia to Manufacture Covid19 Vaccine and give it to the Citizens for free of cost AFP quotes Prime Ministern Australia is doing very good 1 0 Australia to Manufacture Covid19 Vaccine and give it to the Citizens for free of cost AFP quotes Prime Ministern Australia is doing very good 2 0 Australia to Manufacture Covid19 Vaccine and give it to the Citizens for free of cost AFP quotes Prime Ministern Australia is doing very good 3 0 Australia to Manufacture Covid19 Vaccine and give it to the Citizens for free of cost AFP quotes Prime Ministern Australia is doing very good 4 0 Australia to Manufacture Covid19 Vaccine and give it to the Citizens for free of cost AFP quotes Prime Minis...</td>\n",
              "      <td>0         0                                                                                                                                                                        Australia to Manufacture Covid-19 Vaccine and give it to the Citizens for free of cost: AFP quotes Prime Minister\\n#CovidVaccine\\n1                                                                                                                                                                                                   #CoronavirusVaccine #CoronaVaccine #CovidVaccine Australia is doing very good https://t.co/kBT7l6pArY\\n2                                                                                       ...</td>\n",
              "    </tr>\n",
              "  </tbody>\n",
              "</table>\n",
              "</div>\n",
              "      <button class=\"colab-df-convert\" onclick=\"convertToInteractive('df-ba75cff9-aa0b-4071-b01b-b128de1dc9c0')\"\n",
              "              title=\"Convert this dataframe to an interactive table.\"\n",
              "              style=\"display:none;\">\n",
              "        \n",
              "  <svg xmlns=\"http://www.w3.org/2000/svg\" height=\"24px\"viewBox=\"0 0 24 24\"\n",
              "       width=\"24px\">\n",
              "    <path d=\"M0 0h24v24H0V0z\" fill=\"none\"/>\n",
              "    <path d=\"M18.56 5.44l.94 2.06.94-2.06 2.06-.94-2.06-.94-.94-2.06-.94 2.06-2.06.94zm-11 1L8.5 8.5l.94-2.06 2.06-.94-2.06-.94L8.5 2.5l-.94 2.06-2.06.94zm10 10l.94 2.06.94-2.06 2.06-.94-2.06-.94-.94-2.06-.94 2.06-2.06.94z\"/><path d=\"M17.41 7.96l-1.37-1.37c-.4-.4-.92-.59-1.43-.59-.52 0-1.04.2-1.43.59L10.3 9.45l-7.72 7.72c-.78.78-.78 2.05 0 2.83L4 21.41c.39.39.9.59 1.41.59.51 0 1.02-.2 1.41-.59l7.78-7.78 2.81-2.81c.8-.78.8-2.07 0-2.86zM5.41 20L4 18.59l7.72-7.72 1.47 1.35L5.41 20z\"/>\n",
              "  </svg>\n",
              "      </button>\n",
              "      \n",
              "  <style>\n",
              "    .colab-df-container {\n",
              "      display:flex;\n",
              "      flex-wrap:wrap;\n",
              "      gap: 12px;\n",
              "    }\n",
              "\n",
              "    .colab-df-convert {\n",
              "      background-color: #E8F0FE;\n",
              "      border: none;\n",
              "      border-radius: 50%;\n",
              "      cursor: pointer;\n",
              "      display: none;\n",
              "      fill: #1967D2;\n",
              "      height: 32px;\n",
              "      padding: 0 0 0 0;\n",
              "      width: 32px;\n",
              "    }\n",
              "\n",
              "    .colab-df-convert:hover {\n",
              "      background-color: #E2EBFA;\n",
              "      box-shadow: 0px 1px 2px rgba(60, 64, 67, 0.3), 0px 1px 3px 1px rgba(60, 64, 67, 0.15);\n",
              "      fill: #174EA6;\n",
              "    }\n",
              "\n",
              "    [theme=dark] .colab-df-convert {\n",
              "      background-color: #3B4455;\n",
              "      fill: #D2E3FC;\n",
              "    }\n",
              "\n",
              "    [theme=dark] .colab-df-convert:hover {\n",
              "      background-color: #434B5C;\n",
              "      box-shadow: 0px 1px 3px 1px rgba(0, 0, 0, 0.15);\n",
              "      filter: drop-shadow(0px 1px 2px rgba(0, 0, 0, 0.3));\n",
              "      fill: #FFFFFF;\n",
              "    }\n",
              "  </style>\n",
              "\n",
              "      <script>\n",
              "        const buttonEl =\n",
              "          document.querySelector('#df-ba75cff9-aa0b-4071-b01b-b128de1dc9c0 button.colab-df-convert');\n",
              "        buttonEl.style.display =\n",
              "          google.colab.kernel.accessAllowed ? 'block' : 'none';\n",
              "\n",
              "        async function convertToInteractive(key) {\n",
              "          const element = document.querySelector('#df-ba75cff9-aa0b-4071-b01b-b128de1dc9c0');\n",
              "          const dataTable =\n",
              "            await google.colab.kernel.invokeFunction('convertToInteractive',\n",
              "                                                     [key], {});\n",
              "          if (!dataTable) return;\n",
              "\n",
              "          const docLinkHtml = 'Like what you see? Visit the ' +\n",
              "            '<a target=\"_blank\" href=https://colab.research.google.com/notebooks/data_table.ipynb>data table notebook</a>'\n",
              "            + ' to learn more about interactive tables.';\n",
              "          element.innerHTML = '';\n",
              "          dataTable['output_type'] = 'display_data';\n",
              "          await google.colab.output.renderOutput(dataTable, element);\n",
              "          const docLink = document.createElement('div');\n",
              "          docLink.innerHTML = docLinkHtml;\n",
              "          element.appendChild(docLink);\n",
              "        }\n",
              "      </script>\n",
              "    </div>\n",
              "  </div>\n",
              "  "
            ],
            "text/plain": [
              "                                                                                                                                                                                                                                                                                                                                                                                                                                                                                                                                                                                                                                                                                                                    clean_data  \\\n",
              "0  0 0 Australia to Manufacture Covid19 Vaccine and give it to the Citizens for free of cost AFP quotes Prime Ministern Australia is doing very good 1 0 Australia to Manufacture Covid19 Vaccine and give it to the Citizens for free of cost AFP quotes Prime Ministern Australia is doing very good 2 0 Australia to Manufacture Covid19 Vaccine and give it to the Citizens for free of cost AFP quotes Prime Ministern Australia is doing very good 3 0 Australia to Manufacture Covid19 Vaccine and give it to the Citizens for free of cost AFP quotes Prime Ministern Australia is doing very good 4 0 Australia to Manufacture Covid19 Vaccine and give it to the Citizens for free of cost AFP quotes Prime Minis...   \n",
              "1  0 0 Australia to Manufacture Covid19 Vaccine and give it to the Citizens for free of cost AFP quotes Prime Ministern Australia is doing very good 1 0 Australia to Manufacture Covid19 Vaccine and give it to the Citizens for free of cost AFP quotes Prime Ministern Australia is doing very good 2 0 Australia to Manufacture Covid19 Vaccine and give it to the Citizens for free of cost AFP quotes Prime Ministern Australia is doing very good 3 0 Australia to Manufacture Covid19 Vaccine and give it to the Citizens for free of cost AFP quotes Prime Ministern Australia is doing very good 4 0 Australia to Manufacture Covid19 Vaccine and give it to the Citizens for free of cost AFP quotes Prime Minis...   \n",
              "\n",
              "                                                                                                                                                                                                                                                                                                                                                                                                                                                                                                                                                                                                                                                                                                                          text  \n",
              "0  0         0                                                                                                                                                                        Australia to Manufacture Covid-19 Vaccine and give it to the Citizens for free of cost: AFP quotes Prime Minister\\n#CovidVaccine\\n1                                                                                                                                                                                                   #CoronavirusVaccine #CoronaVaccine #CovidVaccine Australia is doing very good https://t.co/kBT7l6pArY\\n2                                                                                       ...  \n",
              "1  0         0                                                                                                                                                                        Australia to Manufacture Covid-19 Vaccine and give it to the Citizens for free of cost: AFP quotes Prime Minister\\n#CovidVaccine\\n1                                                                                                                                                                                                   #CoronavirusVaccine #CoronaVaccine #CovidVaccine Australia is doing very good https://t.co/kBT7l6pArY\\n2                                                                                       ...  "
            ]
          },
          "execution_count": 28,
          "metadata": {},
          "output_type": "execute_result"
        }
      ],
      "source": [
        "df[['clean_data','text']].head(2)"
      ]
    },
    {
      "cell_type": "code",
      "execution_count": null,
      "metadata": {
        "colab": {
          "base_uri": "https://localhost:8080/",
          "height": 684
        },
        "id": "1GSjV79-cfyj",
        "outputId": "f4d422ab-18a7-489b-9b85-54ec9eb949c4"
      },
      "outputs": [
        {
          "data": {
            "text/html": [
              "\n",
              "  <div id=\"df-8ccba005-219c-4786-b68d-8bec50bcaa3b\">\n",
              "    <div class=\"colab-df-container\">\n",
              "      <div>\n",
              "<style scoped>\n",
              "    .dataframe tbody tr th:only-of-type {\n",
              "        vertical-align: middle;\n",
              "    }\n",
              "\n",
              "    .dataframe tbody tr th {\n",
              "        vertical-align: top;\n",
              "    }\n",
              "\n",
              "    .dataframe thead th {\n",
              "        text-align: right;\n",
              "    }\n",
              "</style>\n",
              "<table border=\"1\" class=\"dataframe\">\n",
              "  <thead>\n",
              "    <tr style=\"text-align: right;\">\n",
              "      <th></th>\n",
              "      <th>user_location</th>\n",
              "      <th>date</th>\n",
              "      <th>text</th>\n",
              "      <th>clean_data</th>\n",
              "    </tr>\n",
              "  </thead>\n",
              "  <tbody>\n",
              "    <tr>\n",
              "      <th>0</th>\n",
              "      <td>Assam</td>\n",
              "      <td>18-08-2020 12:55</td>\n",
              "      <td>0         0                                                                                                                                                                        Australia to Manufacture Covid-19 Vaccine and give it to the Citizens for free of cost: AFP quotes Prime Minister\\n#CovidVaccine\\n1                                                                                                                                                                                                   #CoronavirusVaccine #CoronaVaccine #CovidVaccine Australia is doing very good https://t.co/kBT7l6pArY\\n2                                                                                       ...</td>\n",
              "      <td>0 0 Australia to Manufacture Covid19 Vaccine and give it to the Citizens for free of cost AFP quotes Prime Ministern Australia is doing very good 1 0 Australia to Manufacture Covid19 Vaccine and give it to the Citizens for free of cost AFP quotes Prime Ministern Australia is doing very good 2 0 Australia to Manufacture Covid19 Vaccine and give it to the Citizens for free of cost AFP quotes Prime Ministern Australia is doing very good 3 0 Australia to Manufacture Covid19 Vaccine and give it to the Citizens for free of cost AFP quotes Prime Ministern Australia is doing very good 4 0 Australia to Manufacture Covid19 Vaccine and give it to the Citizens for free of cost AFP quotes Prime Minis...</td>\n",
              "    </tr>\n",
              "    <tr>\n",
              "      <th>1</th>\n",
              "      <td>NaN</td>\n",
              "      <td>18-08-2020 12:55</td>\n",
              "      <td>0         0                                                                                                                                                                        Australia to Manufacture Covid-19 Vaccine and give it to the Citizens for free of cost: AFP quotes Prime Minister\\n#CovidVaccine\\n1                                                                                                                                                                                                   #CoronavirusVaccine #CoronaVaccine #CovidVaccine Australia is doing very good https://t.co/kBT7l6pArY\\n2                                                                                       ...</td>\n",
              "      <td>0 0 Australia to Manufacture Covid19 Vaccine and give it to the Citizens for free of cost AFP quotes Prime Ministern Australia is doing very good 1 0 Australia to Manufacture Covid19 Vaccine and give it to the Citizens for free of cost AFP quotes Prime Ministern Australia is doing very good 2 0 Australia to Manufacture Covid19 Vaccine and give it to the Citizens for free of cost AFP quotes Prime Ministern Australia is doing very good 3 0 Australia to Manufacture Covid19 Vaccine and give it to the Citizens for free of cost AFP quotes Prime Ministern Australia is doing very good 4 0 Australia to Manufacture Covid19 Vaccine and give it to the Citizens for free of cost AFP quotes Prime Minis...</td>\n",
              "    </tr>\n",
              "    <tr>\n",
              "      <th>2</th>\n",
              "      <td>NaN</td>\n",
              "      <td>18-08-2020 12:46</td>\n",
              "      <td>0         0                                                                                                                                                                        Australia to Manufacture Covid-19 Vaccine and give it to the Citizens for free of cost: AFP quotes Prime Minister\\n#CovidVaccine\\n1                                                                                                                                                                                                   #CoronavirusVaccine #CoronaVaccine #CovidVaccine Australia is doing very good https://t.co/kBT7l6pArY\\n2                                                                                       ...</td>\n",
              "      <td>0 0 Australia to Manufacture Covid19 Vaccine and give it to the Citizens for free of cost AFP quotes Prime Ministern Australia is doing very good 1 0 Australia to Manufacture Covid19 Vaccine and give it to the Citizens for free of cost AFP quotes Prime Ministern Australia is doing very good 2 0 Australia to Manufacture Covid19 Vaccine and give it to the Citizens for free of cost AFP quotes Prime Ministern Australia is doing very good 3 0 Australia to Manufacture Covid19 Vaccine and give it to the Citizens for free of cost AFP quotes Prime Ministern Australia is doing very good 4 0 Australia to Manufacture Covid19 Vaccine and give it to the Citizens for free of cost AFP quotes Prime Minis...</td>\n",
              "    </tr>\n",
              "    <tr>\n",
              "      <th>3</th>\n",
              "      <td>NaN</td>\n",
              "      <td>18-08-2020 12:45</td>\n",
              "      <td>0         0                                                                                                                                                                        Australia to Manufacture Covid-19 Vaccine and give it to the Citizens for free of cost: AFP quotes Prime Minister\\n#CovidVaccine\\n1                                                                                                                                                                                                   #CoronavirusVaccine #CoronaVaccine #CovidVaccine Australia is doing very good https://t.co/kBT7l6pArY\\n2                                                                                       ...</td>\n",
              "      <td>0 0 Australia to Manufacture Covid19 Vaccine and give it to the Citizens for free of cost AFP quotes Prime Ministern Australia is doing very good 1 0 Australia to Manufacture Covid19 Vaccine and give it to the Citizens for free of cost AFP quotes Prime Ministern Australia is doing very good 2 0 Australia to Manufacture Covid19 Vaccine and give it to the Citizens for free of cost AFP quotes Prime Ministern Australia is doing very good 3 0 Australia to Manufacture Covid19 Vaccine and give it to the Citizens for free of cost AFP quotes Prime Ministern Australia is doing very good 4 0 Australia to Manufacture Covid19 Vaccine and give it to the Citizens for free of cost AFP quotes Prime Minis...</td>\n",
              "    </tr>\n",
              "    <tr>\n",
              "      <th>4</th>\n",
              "      <td>Adelaide, South Australia</td>\n",
              "      <td>18-08-2020 12:45</td>\n",
              "      <td>0         0                                                                                                                                                                        Australia to Manufacture Covid-19 Vaccine and give it to the Citizens for free of cost: AFP quotes Prime Minister\\n#CovidVaccine\\n1                                                                                                                                                                                                   #CoronavirusVaccine #CoronaVaccine #CovidVaccine Australia is doing very good https://t.co/kBT7l6pArY\\n2                                                                                       ...</td>\n",
              "      <td>0 0 Australia to Manufacture Covid19 Vaccine and give it to the Citizens for free of cost AFP quotes Prime Ministern Australia is doing very good 1 0 Australia to Manufacture Covid19 Vaccine and give it to the Citizens for free of cost AFP quotes Prime Ministern Australia is doing very good 2 0 Australia to Manufacture Covid19 Vaccine and give it to the Citizens for free of cost AFP quotes Prime Ministern Australia is doing very good 3 0 Australia to Manufacture Covid19 Vaccine and give it to the Citizens for free of cost AFP quotes Prime Ministern Australia is doing very good 4 0 Australia to Manufacture Covid19 Vaccine and give it to the Citizens for free of cost AFP quotes Prime Minis...</td>\n",
              "    </tr>\n",
              "  </tbody>\n",
              "</table>\n",
              "</div>\n",
              "      <button class=\"colab-df-convert\" onclick=\"convertToInteractive('df-8ccba005-219c-4786-b68d-8bec50bcaa3b')\"\n",
              "              title=\"Convert this dataframe to an interactive table.\"\n",
              "              style=\"display:none;\">\n",
              "        \n",
              "  <svg xmlns=\"http://www.w3.org/2000/svg\" height=\"24px\"viewBox=\"0 0 24 24\"\n",
              "       width=\"24px\">\n",
              "    <path d=\"M0 0h24v24H0V0z\" fill=\"none\"/>\n",
              "    <path d=\"M18.56 5.44l.94 2.06.94-2.06 2.06-.94-2.06-.94-.94-2.06-.94 2.06-2.06.94zm-11 1L8.5 8.5l.94-2.06 2.06-.94-2.06-.94L8.5 2.5l-.94 2.06-2.06.94zm10 10l.94 2.06.94-2.06 2.06-.94-2.06-.94-.94-2.06-.94 2.06-2.06.94z\"/><path d=\"M17.41 7.96l-1.37-1.37c-.4-.4-.92-.59-1.43-.59-.52 0-1.04.2-1.43.59L10.3 9.45l-7.72 7.72c-.78.78-.78 2.05 0 2.83L4 21.41c.39.39.9.59 1.41.59.51 0 1.02-.2 1.41-.59l7.78-7.78 2.81-2.81c.8-.78.8-2.07 0-2.86zM5.41 20L4 18.59l7.72-7.72 1.47 1.35L5.41 20z\"/>\n",
              "  </svg>\n",
              "      </button>\n",
              "      \n",
              "  <style>\n",
              "    .colab-df-container {\n",
              "      display:flex;\n",
              "      flex-wrap:wrap;\n",
              "      gap: 12px;\n",
              "    }\n",
              "\n",
              "    .colab-df-convert {\n",
              "      background-color: #E8F0FE;\n",
              "      border: none;\n",
              "      border-radius: 50%;\n",
              "      cursor: pointer;\n",
              "      display: none;\n",
              "      fill: #1967D2;\n",
              "      height: 32px;\n",
              "      padding: 0 0 0 0;\n",
              "      width: 32px;\n",
              "    }\n",
              "\n",
              "    .colab-df-convert:hover {\n",
              "      background-color: #E2EBFA;\n",
              "      box-shadow: 0px 1px 2px rgba(60, 64, 67, 0.3), 0px 1px 3px 1px rgba(60, 64, 67, 0.15);\n",
              "      fill: #174EA6;\n",
              "    }\n",
              "\n",
              "    [theme=dark] .colab-df-convert {\n",
              "      background-color: #3B4455;\n",
              "      fill: #D2E3FC;\n",
              "    }\n",
              "\n",
              "    [theme=dark] .colab-df-convert:hover {\n",
              "      background-color: #434B5C;\n",
              "      box-shadow: 0px 1px 3px 1px rgba(0, 0, 0, 0.15);\n",
              "      filter: drop-shadow(0px 1px 2px rgba(0, 0, 0, 0.3));\n",
              "      fill: #FFFFFF;\n",
              "    }\n",
              "  </style>\n",
              "\n",
              "      <script>\n",
              "        const buttonEl =\n",
              "          document.querySelector('#df-8ccba005-219c-4786-b68d-8bec50bcaa3b button.colab-df-convert');\n",
              "        buttonEl.style.display =\n",
              "          google.colab.kernel.accessAllowed ? 'block' : 'none';\n",
              "\n",
              "        async function convertToInteractive(key) {\n",
              "          const element = document.querySelector('#df-8ccba005-219c-4786-b68d-8bec50bcaa3b');\n",
              "          const dataTable =\n",
              "            await google.colab.kernel.invokeFunction('convertToInteractive',\n",
              "                                                     [key], {});\n",
              "          if (!dataTable) return;\n",
              "\n",
              "          const docLinkHtml = 'Like what you see? Visit the ' +\n",
              "            '<a target=\"_blank\" href=https://colab.research.google.com/notebooks/data_table.ipynb>data table notebook</a>'\n",
              "            + ' to learn more about interactive tables.';\n",
              "          element.innerHTML = '';\n",
              "          dataTable['output_type'] = 'display_data';\n",
              "          await google.colab.output.renderOutput(dataTable, element);\n",
              "          const docLink = document.createElement('div');\n",
              "          docLink.innerHTML = docLinkHtml;\n",
              "          element.appendChild(docLink);\n",
              "        }\n",
              "      </script>\n",
              "    </div>\n",
              "  </div>\n",
              "  "
            ],
            "text/plain": [
              "               user_location              date  \\\n",
              "0                      Assam  18-08-2020 12:55   \n",
              "1                        NaN  18-08-2020 12:55   \n",
              "2                        NaN  18-08-2020 12:46   \n",
              "3                        NaN  18-08-2020 12:45   \n",
              "4  Adelaide, South Australia  18-08-2020 12:45   \n",
              "\n",
              "                                                                                                                                                                                                                                                                                                                                                                                                                                                                                                                                                                                                                                                                                                                          text  \\\n",
              "0  0         0                                                                                                                                                                        Australia to Manufacture Covid-19 Vaccine and give it to the Citizens for free of cost: AFP quotes Prime Minister\\n#CovidVaccine\\n1                                                                                                                                                                                                   #CoronavirusVaccine #CoronaVaccine #CovidVaccine Australia is doing very good https://t.co/kBT7l6pArY\\n2                                                                                       ...   \n",
              "1  0         0                                                                                                                                                                        Australia to Manufacture Covid-19 Vaccine and give it to the Citizens for free of cost: AFP quotes Prime Minister\\n#CovidVaccine\\n1                                                                                                                                                                                                   #CoronavirusVaccine #CoronaVaccine #CovidVaccine Australia is doing very good https://t.co/kBT7l6pArY\\n2                                                                                       ...   \n",
              "2  0         0                                                                                                                                                                        Australia to Manufacture Covid-19 Vaccine and give it to the Citizens for free of cost: AFP quotes Prime Minister\\n#CovidVaccine\\n1                                                                                                                                                                                                   #CoronavirusVaccine #CoronaVaccine #CovidVaccine Australia is doing very good https://t.co/kBT7l6pArY\\n2                                                                                       ...   \n",
              "3  0         0                                                                                                                                                                        Australia to Manufacture Covid-19 Vaccine and give it to the Citizens for free of cost: AFP quotes Prime Minister\\n#CovidVaccine\\n1                                                                                                                                                                                                   #CoronavirusVaccine #CoronaVaccine #CovidVaccine Australia is doing very good https://t.co/kBT7l6pArY\\n2                                                                                       ...   \n",
              "4  0         0                                                                                                                                                                        Australia to Manufacture Covid-19 Vaccine and give it to the Citizens for free of cost: AFP quotes Prime Minister\\n#CovidVaccine\\n1                                                                                                                                                                                                   #CoronavirusVaccine #CoronaVaccine #CovidVaccine Australia is doing very good https://t.co/kBT7l6pArY\\n2                                                                                       ...   \n",
              "\n",
              "                                                                                                                                                                                                                                                                                                                                                                                                                                                                                                                                                                                                                                                                                                                    clean_data  \n",
              "0  0 0 Australia to Manufacture Covid19 Vaccine and give it to the Citizens for free of cost AFP quotes Prime Ministern Australia is doing very good 1 0 Australia to Manufacture Covid19 Vaccine and give it to the Citizens for free of cost AFP quotes Prime Ministern Australia is doing very good 2 0 Australia to Manufacture Covid19 Vaccine and give it to the Citizens for free of cost AFP quotes Prime Ministern Australia is doing very good 3 0 Australia to Manufacture Covid19 Vaccine and give it to the Citizens for free of cost AFP quotes Prime Ministern Australia is doing very good 4 0 Australia to Manufacture Covid19 Vaccine and give it to the Citizens for free of cost AFP quotes Prime Minis...  \n",
              "1  0 0 Australia to Manufacture Covid19 Vaccine and give it to the Citizens for free of cost AFP quotes Prime Ministern Australia is doing very good 1 0 Australia to Manufacture Covid19 Vaccine and give it to the Citizens for free of cost AFP quotes Prime Ministern Australia is doing very good 2 0 Australia to Manufacture Covid19 Vaccine and give it to the Citizens for free of cost AFP quotes Prime Ministern Australia is doing very good 3 0 Australia to Manufacture Covid19 Vaccine and give it to the Citizens for free of cost AFP quotes Prime Ministern Australia is doing very good 4 0 Australia to Manufacture Covid19 Vaccine and give it to the Citizens for free of cost AFP quotes Prime Minis...  \n",
              "2  0 0 Australia to Manufacture Covid19 Vaccine and give it to the Citizens for free of cost AFP quotes Prime Ministern Australia is doing very good 1 0 Australia to Manufacture Covid19 Vaccine and give it to the Citizens for free of cost AFP quotes Prime Ministern Australia is doing very good 2 0 Australia to Manufacture Covid19 Vaccine and give it to the Citizens for free of cost AFP quotes Prime Ministern Australia is doing very good 3 0 Australia to Manufacture Covid19 Vaccine and give it to the Citizens for free of cost AFP quotes Prime Ministern Australia is doing very good 4 0 Australia to Manufacture Covid19 Vaccine and give it to the Citizens for free of cost AFP quotes Prime Minis...  \n",
              "3  0 0 Australia to Manufacture Covid19 Vaccine and give it to the Citizens for free of cost AFP quotes Prime Ministern Australia is doing very good 1 0 Australia to Manufacture Covid19 Vaccine and give it to the Citizens for free of cost AFP quotes Prime Ministern Australia is doing very good 2 0 Australia to Manufacture Covid19 Vaccine and give it to the Citizens for free of cost AFP quotes Prime Ministern Australia is doing very good 3 0 Australia to Manufacture Covid19 Vaccine and give it to the Citizens for free of cost AFP quotes Prime Ministern Australia is doing very good 4 0 Australia to Manufacture Covid19 Vaccine and give it to the Citizens for free of cost AFP quotes Prime Minis...  \n",
              "4  0 0 Australia to Manufacture Covid19 Vaccine and give it to the Citizens for free of cost AFP quotes Prime Ministern Australia is doing very good 1 0 Australia to Manufacture Covid19 Vaccine and give it to the Citizens for free of cost AFP quotes Prime Ministern Australia is doing very good 2 0 Australia to Manufacture Covid19 Vaccine and give it to the Citizens for free of cost AFP quotes Prime Ministern Australia is doing very good 3 0 Australia to Manufacture Covid19 Vaccine and give it to the Citizens for free of cost AFP quotes Prime Ministern Australia is doing very good 4 0 Australia to Manufacture Covid19 Vaccine and give it to the Citizens for free of cost AFP quotes Prime Minis...  "
            ]
          },
          "execution_count": 29,
          "metadata": {},
          "output_type": "execute_result"
        }
      ],
      "source": [
        "df.head()"
      ]
    },
    {
      "cell_type": "code",
      "execution_count": null,
      "metadata": {
        "colab": {
          "base_uri": "https://localhost:8080/"
        },
        "id": "T9pv4rgScmkG",
        "outputId": "b2b508ba-9d71-433f-84cd-19a78940d12f"
      },
      "outputs": [
        {
          "name": "stderr",
          "output_type": "stream",
          "text": [
            "[nltk_data] Downloading package stopwords to /root/nltk_data...\n",
            "[nltk_data]   Unzipping corpora/stopwords.zip.\n",
            "[nltk_data] Downloading package wordnet to /root/nltk_data...\n"
          ]
        },
        {
          "data": {
            "text/plain": [
              "True"
            ]
          },
          "execution_count": 30,
          "metadata": {},
          "output_type": "execute_result"
        }
      ],
      "source": [
        "import nltk\n",
        "from nltk.stem import WordNetLemmatizer\n",
        "from nltk.corpus import stopwords\n",
        "\n",
        "lemmatizer = WordNetLemmatizer()\n",
        "nltk.download('stopwords')\n",
        "nltk.download('wordnet')"
      ]
    },
    {
      "cell_type": "code",
      "execution_count": null,
      "metadata": {
        "colab": {
          "base_uri": "https://localhost:8080/"
        },
        "id": "tUKxZNTFD-Zs",
        "outputId": "899857ec-0388-4091-c3ec-6d2de2bf99d6"
      },
      "outputs": [
        {
          "data": {
            "text/plain": [
              "(179, ['our', 'ours', 'ourselves', 'you', \"you're\"])"
            ]
          },
          "execution_count": 31,
          "metadata": {},
          "output_type": "execute_result"
        }
      ],
      "source": [
        "stop_words = stopwords.words('english')\n",
        "len(stop_words),stop_words[5:10]"
      ]
    },
    {
      "cell_type": "code",
      "execution_count": null,
      "metadata": {
        "id": "7mfp44izD-bd"
      },
      "outputs": [],
      "source": []
    },
    {
      "cell_type": "code",
      "execution_count": null,
      "metadata": {
        "id": "oFGjBfPlD-fE"
      },
      "outputs": [],
      "source": [
        "def stopWords(tweet):\n",
        "  clean_tweet = tweet\n",
        "  clean_tweet = \" \".join(word for word in clean_tweet.split() if word not in stop_words)\n",
        "# clean_tweet = \" \".join(lemmatizer.lemmatize(word) for word in clean_tweet.split())\n",
        "  return clean_tweet"
      ]
    },
    {
      "cell_type": "code",
      "execution_count": null,
      "metadata": {
        "colab": {
          "background_save": true
        },
        "id": "_6q-9Xg-D-iA"
      },
      "outputs": [],
      "source": [
        "df['clean_data'] = df['clean_data'].apply(lambda x: stopWords(x))"
      ]
    },
    {
      "cell_type": "code",
      "execution_count": null,
      "metadata": {
        "colab": {
          "background_save": true
        },
        "id": "iChHgLuaD_GQ",
        "outputId": "f66d0da6-8bca-4c81-8e6b-2a291148f8d0"
      },
      "outputs": [
        {
          "data": {
            "text/html": [
              "\n",
              "  <div id=\"df-a45d3144-6d46-4acb-b76c-28893bf6ec9e\">\n",
              "    <div class=\"colab-df-container\">\n",
              "      <div>\n",
              "<style scoped>\n",
              "    .dataframe tbody tr th:only-of-type {\n",
              "        vertical-align: middle;\n",
              "    }\n",
              "\n",
              "    .dataframe tbody tr th {\n",
              "        vertical-align: top;\n",
              "    }\n",
              "\n",
              "    .dataframe thead th {\n",
              "        text-align: right;\n",
              "    }\n",
              "</style>\n",
              "<table border=\"1\" class=\"dataframe\">\n",
              "  <thead>\n",
              "    <tr style=\"text-align: right;\">\n",
              "      <th></th>\n",
              "      <th>user_location</th>\n",
              "      <th>date</th>\n",
              "      <th>text</th>\n",
              "      <th>clean_data</th>\n",
              "    </tr>\n",
              "  </thead>\n",
              "  <tbody>\n",
              "    <tr>\n",
              "      <th>0</th>\n",
              "      <td>Assam</td>\n",
              "      <td>18-08-2020 12:55</td>\n",
              "      <td>0         0                                                                                                                                                                        Australia to Manufacture Covid-19 Vaccine and give it to the Citizens for free of cost: AFP quotes Prime Minister\\n#CovidVaccine\\n1                                                                                                                                                                                                   #CoronavirusVaccine #CoronaVaccine #CovidVaccine Australia is doing very good https://t.co/kBT7l6pArY\\n2                                                                                       ...</td>\n",
              "      <td>0 0 Australia Manufacture Covid19 Vaccine give Citizens free cost AFP quotes Prime Ministern Australia good 1 0 Australia Manufacture Covid19 Vaccine give Citizens free cost AFP quotes Prime Ministern Australia good 2 0 Australia Manufacture Covid19 Vaccine give Citizens free cost AFP quotes Prime Ministern Australia good 3 0 Australia Manufacture Covid19 Vaccine give Citizens free cost AFP quotes Prime Ministern Australia good 4 0 Australia Manufacture Covid19 Vaccine give Citizens free cost AFP quotes Prime Ministern Australia good 394386 0 Australia Manufacture Covid19 Vaccine give Citizens free cost AFP quotes Prime Ministern Australia good 394387 0 Australia Manufacture Covid19 Vacc...</td>\n",
              "    </tr>\n",
              "    <tr>\n",
              "      <th>1</th>\n",
              "      <td>NaN</td>\n",
              "      <td>18-08-2020 12:55</td>\n",
              "      <td>0         0                                                                                                                                                                        Australia to Manufacture Covid-19 Vaccine and give it to the Citizens for free of cost: AFP quotes Prime Minister\\n#CovidVaccine\\n1                                                                                                                                                                                                   #CoronavirusVaccine #CoronaVaccine #CovidVaccine Australia is doing very good https://t.co/kBT7l6pArY\\n2                                                                                       ...</td>\n",
              "      <td>0 0 Australia Manufacture Covid19 Vaccine give Citizens free cost AFP quotes Prime Ministern Australia good 1 0 Australia Manufacture Covid19 Vaccine give Citizens free cost AFP quotes Prime Ministern Australia good 2 0 Australia Manufacture Covid19 Vaccine give Citizens free cost AFP quotes Prime Ministern Australia good 3 0 Australia Manufacture Covid19 Vaccine give Citizens free cost AFP quotes Prime Ministern Australia good 4 0 Australia Manufacture Covid19 Vaccine give Citizens free cost AFP quotes Prime Ministern Australia good 394386 0 Australia Manufacture Covid19 Vaccine give Citizens free cost AFP quotes Prime Ministern Australia good 394387 0 Australia Manufacture Covid19 Vacc...</td>\n",
              "    </tr>\n",
              "  </tbody>\n",
              "</table>\n",
              "</div>\n",
              "      <button class=\"colab-df-convert\" onclick=\"convertToInteractive('df-a45d3144-6d46-4acb-b76c-28893bf6ec9e')\"\n",
              "              title=\"Convert this dataframe to an interactive table.\"\n",
              "              style=\"display:none;\">\n",
              "        \n",
              "  <svg xmlns=\"http://www.w3.org/2000/svg\" height=\"24px\"viewBox=\"0 0 24 24\"\n",
              "       width=\"24px\">\n",
              "    <path d=\"M0 0h24v24H0V0z\" fill=\"none\"/>\n",
              "    <path d=\"M18.56 5.44l.94 2.06.94-2.06 2.06-.94-2.06-.94-.94-2.06-.94 2.06-2.06.94zm-11 1L8.5 8.5l.94-2.06 2.06-.94-2.06-.94L8.5 2.5l-.94 2.06-2.06.94zm10 10l.94 2.06.94-2.06 2.06-.94-2.06-.94-.94-2.06-.94 2.06-2.06.94z\"/><path d=\"M17.41 7.96l-1.37-1.37c-.4-.4-.92-.59-1.43-.59-.52 0-1.04.2-1.43.59L10.3 9.45l-7.72 7.72c-.78.78-.78 2.05 0 2.83L4 21.41c.39.39.9.59 1.41.59.51 0 1.02-.2 1.41-.59l7.78-7.78 2.81-2.81c.8-.78.8-2.07 0-2.86zM5.41 20L4 18.59l7.72-7.72 1.47 1.35L5.41 20z\"/>\n",
              "  </svg>\n",
              "      </button>\n",
              "      \n",
              "  <style>\n",
              "    .colab-df-container {\n",
              "      display:flex;\n",
              "      flex-wrap:wrap;\n",
              "      gap: 12px;\n",
              "    }\n",
              "\n",
              "    .colab-df-convert {\n",
              "      background-color: #E8F0FE;\n",
              "      border: none;\n",
              "      border-radius: 50%;\n",
              "      cursor: pointer;\n",
              "      display: none;\n",
              "      fill: #1967D2;\n",
              "      height: 32px;\n",
              "      padding: 0 0 0 0;\n",
              "      width: 32px;\n",
              "    }\n",
              "\n",
              "    .colab-df-convert:hover {\n",
              "      background-color: #E2EBFA;\n",
              "      box-shadow: 0px 1px 2px rgba(60, 64, 67, 0.3), 0px 1px 3px 1px rgba(60, 64, 67, 0.15);\n",
              "      fill: #174EA6;\n",
              "    }\n",
              "\n",
              "    [theme=dark] .colab-df-convert {\n",
              "      background-color: #3B4455;\n",
              "      fill: #D2E3FC;\n",
              "    }\n",
              "\n",
              "    [theme=dark] .colab-df-convert:hover {\n",
              "      background-color: #434B5C;\n",
              "      box-shadow: 0px 1px 3px 1px rgba(0, 0, 0, 0.15);\n",
              "      filter: drop-shadow(0px 1px 2px rgba(0, 0, 0, 0.3));\n",
              "      fill: #FFFFFF;\n",
              "    }\n",
              "  </style>\n",
              "\n",
              "      <script>\n",
              "        const buttonEl =\n",
              "          document.querySelector('#df-a45d3144-6d46-4acb-b76c-28893bf6ec9e button.colab-df-convert');\n",
              "        buttonEl.style.display =\n",
              "          google.colab.kernel.accessAllowed ? 'block' : 'none';\n",
              "\n",
              "        async function convertToInteractive(key) {\n",
              "          const element = document.querySelector('#df-a45d3144-6d46-4acb-b76c-28893bf6ec9e');\n",
              "          const dataTable =\n",
              "            await google.colab.kernel.invokeFunction('convertToInteractive',\n",
              "                                                     [key], {});\n",
              "          if (!dataTable) return;\n",
              "\n",
              "          const docLinkHtml = 'Like what you see? Visit the ' +\n",
              "            '<a target=\"_blank\" href=https://colab.research.google.com/notebooks/data_table.ipynb>data table notebook</a>'\n",
              "            + ' to learn more about interactive tables.';\n",
              "          element.innerHTML = '';\n",
              "          dataTable['output_type'] = 'display_data';\n",
              "          await google.colab.output.renderOutput(dataTable, element);\n",
              "          const docLink = document.createElement('div');\n",
              "          docLink.innerHTML = docLinkHtml;\n",
              "          element.appendChild(docLink);\n",
              "        }\n",
              "      </script>\n",
              "    </div>\n",
              "  </div>\n",
              "  "
            ],
            "text/plain": [
              "  user_location              date  \\\n",
              "0         Assam  18-08-2020 12:55   \n",
              "1           NaN  18-08-2020 12:55   \n",
              "\n",
              "                                                                                                                                                                                                                                                                                                                                                                                                                                                                                                                                                                                                                                                                                                                          text  \\\n",
              "0  0         0                                                                                                                                                                        Australia to Manufacture Covid-19 Vaccine and give it to the Citizens for free of cost: AFP quotes Prime Minister\\n#CovidVaccine\\n1                                                                                                                                                                                                   #CoronavirusVaccine #CoronaVaccine #CovidVaccine Australia is doing very good https://t.co/kBT7l6pArY\\n2                                                                                       ...   \n",
              "1  0         0                                                                                                                                                                        Australia to Manufacture Covid-19 Vaccine and give it to the Citizens for free of cost: AFP quotes Prime Minister\\n#CovidVaccine\\n1                                                                                                                                                                                                   #CoronavirusVaccine #CoronaVaccine #CovidVaccine Australia is doing very good https://t.co/kBT7l6pArY\\n2                                                                                       ...   \n",
              "\n",
              "                                                                                                                                                                                                                                                                                                                                                                                                                                                                                                                                                                                                                                                                                                                    clean_data  \n",
              "0  0 0 Australia Manufacture Covid19 Vaccine give Citizens free cost AFP quotes Prime Ministern Australia good 1 0 Australia Manufacture Covid19 Vaccine give Citizens free cost AFP quotes Prime Ministern Australia good 2 0 Australia Manufacture Covid19 Vaccine give Citizens free cost AFP quotes Prime Ministern Australia good 3 0 Australia Manufacture Covid19 Vaccine give Citizens free cost AFP quotes Prime Ministern Australia good 4 0 Australia Manufacture Covid19 Vaccine give Citizens free cost AFP quotes Prime Ministern Australia good 394386 0 Australia Manufacture Covid19 Vaccine give Citizens free cost AFP quotes Prime Ministern Australia good 394387 0 Australia Manufacture Covid19 Vacc...  \n",
              "1  0 0 Australia Manufacture Covid19 Vaccine give Citizens free cost AFP quotes Prime Ministern Australia good 1 0 Australia Manufacture Covid19 Vaccine give Citizens free cost AFP quotes Prime Ministern Australia good 2 0 Australia Manufacture Covid19 Vaccine give Citizens free cost AFP quotes Prime Ministern Australia good 3 0 Australia Manufacture Covid19 Vaccine give Citizens free cost AFP quotes Prime Ministern Australia good 4 0 Australia Manufacture Covid19 Vaccine give Citizens free cost AFP quotes Prime Ministern Australia good 394386 0 Australia Manufacture Covid19 Vaccine give Citizens free cost AFP quotes Prime Ministern Australia good 394387 0 Australia Manufacture Covid19 Vacc...  "
            ]
          },
          "execution_count": null,
          "metadata": {},
          "output_type": "execute_result"
        }
      ],
      "source": [
        "df.head(2)"
      ]
    },
    {
      "cell_type": "code",
      "execution_count": null,
      "metadata": {
        "colab": {
          "background_save": true
        },
        "id": "fmjEMzJoD_IP"
      },
      "outputs": [],
      "source": [
        "from textblob import TextBlob\n",
        "\n",
        "def blob_fun(text):\n",
        "  senti = TextBlob(text)\n",
        "  senti_polarity = senti.sentiment.polarity\n",
        "  senti_subjectivity = senti.sentiment.subjectivity\n",
        "\n",
        "  if senti_polarity > 0:\n",
        "    res = 'Positive'\n",
        "\n",
        "  elif senti_polarity < 0:\n",
        "    res = 'Negative'\n",
        "\n",
        "  elif senti_polarity == 0:\n",
        "    res =\"Neutral\"\n",
        "\n",
        "  result = {'polarity':senti_polarity,'subjectivity':senti_subjectivity,'sentiment':res}\n",
        "\n",
        "  return result"
      ]
    },
    {
      "cell_type": "code",
      "execution_count": null,
      "metadata": {
        "colab": {
          "background_save": true
        },
        "id": "vd5kLFp9D_Ly",
        "outputId": "abf2972e-cedb-4d9a-e3d6-2ed4cd8ab666"
      },
      "outputs": [
        {
          "data": {
            "text/plain": [
              "{'polarity': -0.3, 'sentiment': 'Negative', 'subjectivity': 0.4}"
            ]
          },
          "execution_count": null,
          "metadata": {},
          "output_type": "execute_result"
        }
      ],
      "source": [
        "blob_fun('thank god,i tested negative for covid')"
      ]
    },
    {
      "cell_type": "code",
      "execution_count": null,
      "metadata": {
        "colab": {
          "background_save": true
        },
        "id": "S_Cfdxm2D_OD",
        "outputId": "88e0634f-8ff0-4b87-987c-88f00fa07a98"
      },
      "outputs": [
        {
          "data": {
            "text/plain": [
              "{'polarity': 0.55, 'sentiment': 'Positive', 'subjectivity': 0.7000000000000002}"
            ]
          },
          "execution_count": null,
          "metadata": {},
          "output_type": "execute_result"
        }
      ],
      "source": [
        "blob_fun(df['clean_data'][5])"
      ]
    },
    {
      "cell_type": "code",
      "execution_count": null,
      "metadata": {
        "colab": {
          "background_save": true
        },
        "id": "mTzmG-QHD_RQ"
      },
      "outputs": [],
      "source": [
        "df['results'] = df['clean_data'].apply(blob_fun)"
      ]
    },
    {
      "cell_type": "code",
      "execution_count": null,
      "metadata": {
        "colab": {
          "background_save": true
        },
        "id": "YNtq20qFEUd4"
      },
      "outputs": [],
      "source": [
        "df.drop(columns={\"user_location\",'text'},inplace=True)"
      ]
    },
    {
      "cell_type": "code",
      "execution_count": null,
      "metadata": {
        "colab": {
          "background_save": true
        },
        "id": "soz_x3YXEUgT"
      },
      "outputs": [],
      "source": []
    },
    {
      "cell_type": "code",
      "execution_count": null,
      "metadata": {
        "colab": {
          "background_save": true
        },
        "id": "ZNJX8l2iEUu2"
      },
      "outputs": [],
      "source": [
        "df = df.join(pd.json_normalize(df=df['results']))"
      ]
    },
    {
      "cell_type": "code",
      "execution_count": null,
      "metadata": {
        "colab": {
          "background_save": true
        },
        "id": "VUKnOzfJEicO"
      },
      "outputs": [],
      "source": [
        "df.head()"
      ]
    },
    {
      "cell_type": "code",
      "execution_count": null,
      "metadata": {
        "colab": {
          "background_save": true
        },
        "id": "qC5bh7iJEieG"
      },
      "outputs": [],
      "source": [
        "positive_tweet =  df[df['sentiment'] == 'Positive']['clean_data']\n",
        "negative_tweet =  df[df['sentiment'] == 'Negative']['clean_data']\n",
        "neutral_tweet =  df[df['sentiment'] == 'Neutral']['clean_data']"
      ]
    },
    {
      "cell_type": "code",
      "execution_count": null,
      "metadata": {
        "colab": {
          "background_save": true
        },
        "id": "VlnnXLKrEihp"
      },
      "outputs": [],
      "source": [
        "from wordcloud import WordCloud\n",
        "def cloud_of_Words(tweet_cat,title):\n",
        "    forcloud = ' '.join([tweet for tweet in tweet_cat if tweet not in list1])\n",
        "    wordcloud = WordCloud(width =500,height = 300,random_state =5,max_font_size=110).generate(forcloud)\n",
        "    plt.imshow(wordcloud, interpolation ='bilinear')\n",
        "    plt.title(title)\n",
        "    plt.axis('off')\n",
        "    plt.show()\n",
        "    plt.figure(figsize = (10,8))"
      ]
    },
    {
      "cell_type": "code",
      "execution_count": null,
      "metadata": {
        "colab": {
          "background_save": true
        },
        "id": "ZNiCBU4nEikY"
      },
      "outputs": [],
      "source": [
        "plt.figure(figsize = (10,8))\n",
        "cloud_of_Words(positive_tweet, 'Positive')\n",
        "cloud_of_Words(negative_tweet, 'Negative')\n",
        "cloud_of_Words(neutral_tweet, 'Neutral')"
      ]
    },
    {
      "cell_type": "code",
      "execution_count": null,
      "metadata": {
        "colab": {
          "background_save": true
        },
        "id": "Uf6QQUGiEinU"
      },
      "outputs": [],
      "source": [
        "list1 =['I','amp','AGE','vaccine','dose','The','got','Dose','Doses','Im','2','1','get','all','HOSPITAL','A','like','one','No','All']\n",
        "token = 0\n",
        "positive_tokens = [token for line in positive_tweet for token in line.split()if token not in list1]\n",
        "negative_tokens = [token for line in negative_tweet for token in line.split()if token not in list1]\n",
        "neutral_tokens = [token for line in neutral_tweet for token in line.split()if token not in list1]"
      ]
    },
    {
      "cell_type": "code",
      "execution_count": null,
      "metadata": {
        "colab": {
          "background_save": true
        },
        "id": "9LlCbOkMEiqD"
      },
      "outputs": [],
      "source": [
        "from collections import Counter\n",
        "def get_maxtoken(tweets,num=30):\n",
        "  word_tokens = Counter(tweets)\n",
        "  max_common = word_tokens.most_common(num)\n",
        "  return dict(max_common)\n",
        "def token_df_vis(x, title):\n",
        "  df = pd.DataFrame(get_maxtoken(x).items(),columns=['words','count'])\n",
        "  # plt.figure(figsize = (20,5))\n",
        "  # plt.title(title)\n",
        "  # plt.xticks(rotation=45)\n",
        "  fig = px.bar(df,x='words',y='count',title = title)\n",
        "  fig.show()"
      ]
    },
    {
      "cell_type": "code",
      "execution_count": null,
      "metadata": {
        "colab": {
          "background_save": true
        },
        "id": "XNWR-hp6E1Ev"
      },
      "outputs": [],
      "source": [
        "token_df_vis(positive_tokens,'Positive')\n",
        "token_df_vis(negative_tokens,'Negative')\n",
        "token_df_vis(neutral_tokens,'Neutral')\n",
        "fig = px.scatter(data,x='polarity',y='subjectivity')\n",
        "fig.show()\n",
        "def percent(x,y):\n",
        "  return print(\"Percentage of \"+y+\" tweets :\",round(len(x)/data.shape[0]*100,3),\"%\")\n",
        "percent(positive_tweet, 'positive')\n",
        "percent(negative_tweet, 'negative')\n",
        "percent(neutral_tweet, 'neutral')"
      ]
    },
    {
      "cell_type": "code",
      "execution_count": null,
      "metadata": {
        "colab": {
          "background_save": true
        },
        "id": "NR0EgY4JE1G9"
      },
      "outputs": [],
      "source": [
        "data['sentiment'].value_counts().plot(kind='bar')"
      ]
    },
    {
      "cell_type": "code",
      "execution_count": null,
      "metadata": {
        "id": "x9oqK4zRE1Kj"
      },
      "outputs": [],
      "source": []
    }
  ],
  "metadata": {
    "colab": {
      "provenance": [],
      "mount_file_id": "1l9nPC83-kCskzHQaf6IhMkHJhjN8_r6f",
      "authorship_tag": "ABX9TyNybhhG63O5pBe/I6NzRV3N",
      "include_colab_link": true
    },
    "kernelspec": {
      "display_name": "Python 3",
      "name": "python3"
    },
    "language_info": {
      "name": "python"
    }
  },
  "nbformat": 4,
  "nbformat_minor": 0
}